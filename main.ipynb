{
 "cells": [
  {
   "cell_type": "markdown",
   "metadata": {},
   "source": [
    "# Analysis of Heart Disease Data"
   ]
  },
  {
   "cell_type": "code",
   "execution_count": null,
   "metadata": {},
   "outputs": [],
   "source": [
    "#importing libraries\n",
    "import numpy as np\n",
    "import pandas as pd\n",
    "import matplotlib.pyplot as plt\n",
    "import seaborn as sns\n",
    "\n",
    "#importing dataset\n",
    "df = pd.read_csv('heart_disease_dataset.csv')"
   ]
  },
  {
   "cell_type": "markdown",
   "metadata": {},
   "source": [
    "## Data Cleaning"
   ]
  },
  {
   "cell_type": "code",
   "execution_count": null,
   "metadata": {},
   "outputs": [],
   "source": [
    "#Age                      Patient's Age in years.\n",
    "#Gender                   Patient's gender (e.g., Male/Female).\n",
    "#Cholesterol              Level of cholesterol in the blood (mg/dL).\n",
    "#Blood Pressure           Patient’s blood pressure measurement (mmHg).\n",
    "#Heart Rate               Resting heart rate (beats per minute).\n",
    "#Smoking                  Smoking status (e.g., Yes/No or pack-years).\n",
    "#Alcohol Intake           Frequency or quantity of alcohol consumption.\n",
    "#Exercise Hours           Number of hours exercised per week.\n",
    "#Family History           Presence of heart disease in close relatives.\n",
    "#Diabetes                 Whether the patient has diabetes (Yes/No).\n",
    "#Obesity                  Obesity status based on BMI or body fat percentCholestrol.\n",
    "#Stress Level             Measured or self-reported stress level.\n",
    "#Blood Sugar              Blood glucose level (mg/dL).\n",
    "#Exercise Induced Angina  Chest pain triggered by physical activity (Yes/No).\n",
    "#Chest Pain Type          Type of chest pain (e.g., typical angina, atypical angina, non-anginal, asymptomatic).\n",
    "#Heart Disease            Presence or absence of heart disease diagnosis (Yes/No).\n",
    "\n",
    "print(df.shape)\n",
    "df.head() "
   ]
  },
  {
   "cell_type": "code",
   "execution_count": null,
   "metadata": {},
   "outputs": [],
   "source": [
    "# removing irrelevant columns for the analysis\n",
    "df = df.drop(['Exercise Hours', 'Diabetes', 'Obesity', 'Stress Level', 'Blood Sugar', 'Exercise Induced Angina', 'Chest Pain Type'], axis=1)\n",
    "\n",
    "print(df.shape)\n",
    "df.head()"
   ]
  },
  {
   "cell_type": "code",
   "execution_count": null,
   "metadata": {},
   "outputs": [],
   "source": [
    "# checking for missing values\n",
    "df.isnull().sum()"
   ]
  },
  {
   "cell_type": "code",
   "execution_count": null,
   "metadata": {},
   "outputs": [],
   "source": [
    "#filling nan values with No thinking the person is a non drinker\n",
    "df['Alcohol Intake'].fillna('No', inplace=True)\n",
    "df.isnull().sum()\n"
   ]
  },
  {
   "cell_type": "code",
   "execution_count": null,
   "metadata": {},
   "outputs": [],
   "source": [
    "# checking for duplicates and removing them\n",
    "print(df.duplicated().sum())\n",
    "df = df.drop_duplicates()\n",
    "\n",
    "df.shape"
   ]
  },
  {
   "cell_type": "code",
   "execution_count": null,
   "metadata": {},
   "outputs": [],
   "source": [
    "numeric_cols = ['Age', 'Cholesterol', 'Blood Pressure', 'Heart Rate']\n",
    "\n",
    "plt.figure(figsize=(12, 8))\n",
    "for idx, col in enumerate(numeric_cols, 1):\n",
    "    plt.subplot(2, 2, idx)\n",
    "    sns.boxplot(y=df[col])\n",
    "    plt.title(f'Boxplot of {col}')\n",
    "plt.tight_layout()\n",
    "plt.show()"
   ]
  },
  {
   "cell_type": "code",
   "execution_count": null,
   "metadata": {},
   "outputs": [],
   "source": [
    "# no outliers in the data\n"
   ]
  },
  {
   "cell_type": "markdown",
   "metadata": {},
   "source": [
    "## Univariate Analysis"
   ]
  },
  {
   "cell_type": "code",
   "execution_count": null,
   "metadata": {},
   "outputs": [],
   "source": [
    "df.head()"
   ]
  },
  {
   "cell_type": "markdown",
   "metadata": {},
   "source": [
    "### 1. Analysis of Age Distribution"
   ]
  },
  {
   "cell_type": "code",
   "execution_count": null,
   "metadata": {},
   "outputs": [],
   "source": [
    "print('Mean:', df['Age'].mean().__round__(2))\n",
    "print('Median:', df['Age'].median())\n",
    "print('Standard Deviation:', df['Age'].std().__round__(2))\n",
    "print('Skewness:', df['Age'].skew().__round__(2))\n",
    "\n",
    "plt.figure(figsize=(20, 5))\n",
    "\n",
    "plt.subplot(1, 2, 1)\n",
    "sns.histplot(df['Age'], kde=True)\n",
    "plt.title('Age Distribution')\n",
    "\n",
    "plt.subplot(1, 2, 2)\n",
    "sns.boxplot(x=df['Age'])\n",
    "plt.title('Age Distribution Boxplot')\n",
    "plt.show()"
   ]
  },
  {
   "cell_type": "markdown",
   "metadata": {},
   "source": [
    "### 2. Analysis of Cholestrol Distrubution "
   ]
  },
  {
   "cell_type": "code",
   "execution_count": null,
   "metadata": {},
   "outputs": [],
   "source": [
    "\n",
    "print('Mean:', df['Cholesterol'].mean().__round__(2))\n",
    "print('Median:', df['Cholesterol'].median())\n",
    "print('Standard Deviation:', df['Cholesterol'].std().__round__(2))\n",
    "print('Skewness:', df['Cholesterol'].skew().__round__(2))\n",
    "\n",
    "plt.figure(figsize=(20, 5))\n",
    "\n",
    "plt.subplot(1, 2, 1)\n",
    "sns.histplot(df['Cholesterol'], kde=True)\n",
    "plt.title('Cholesterol Distribution')\n",
    "\n",
    "plt.subplot(1, 2, 2)\n",
    "sns.boxplot(x=df['Cholesterol'])\n",
    "plt.title('Cholesterol Distribution Boxplot')\n",
    "plt.show()"
   ]
  },
  {
   "cell_type": "markdown",
   "metadata": {},
   "source": [
    "### 3. Analysis of Blood Pressure Distribution"
   ]
  },
  {
   "cell_type": "code",
   "execution_count": null,
   "metadata": {},
   "outputs": [],
   "source": [
    "print('Mean:', df['Blood Pressure'].mean().__round__(2))\n",
    "print('Median:', df['Blood Pressure'].median())\n",
    "print('Standard Deviation:', df['Blood Pressure'].std().__round__(2))\n",
    "print('Skewness:', df['Blood Pressure'].skew().__round__(2))\n",
    "\n",
    "plt.figure(figsize=(20, 5))\n",
    "\n",
    "plt.subplot(1, 2, 1)\n",
    "sns.histplot(df['Blood Pressure'], kde=True)\n",
    "plt.title('Blood Pressure Distribution')\n",
    "\n",
    "plt.subplot(1, 2, 2)\n",
    "sns.boxplot(x=df['Blood Pressure'])\n",
    "plt.title('Blood Pressure Distribution Boxplot')\n",
    "plt.show()"
   ]
  },
  {
   "cell_type": "markdown",
   "metadata": {},
   "source": [
    "### 4. Analysis of Heart Rate Distribution"
   ]
  },
  {
   "cell_type": "code",
   "execution_count": null,
   "metadata": {},
   "outputs": [],
   "source": [
    "print('Mean:', df['Heart Rate'].mean().__round__(2))\n",
    "print('Median:', df['Heart Rate'].median())\n",
    "print('Standard Deviation:', df['Heart Rate'].std().__round__(2))\n",
    "print('Skewness:', df['Heart Rate'].skew().__round__(2))\n",
    "\n",
    "plt.figure(figsize=(20, 5))\n",
    "\n",
    "plt.subplot(1, 2, 1)\n",
    "sns.histplot(df['Heart Rate'], kde=True)\n",
    "plt.title('Heart Rate Distribution')\n",
    "\n",
    "plt.subplot(1, 2, 2)\n",
    "sns.boxplot(x=df['Heart Rate'])\n",
    "plt.title('Heart Rate Distribution Boxplot')\n",
    "plt.show()"
   ]
  },
  {
   "cell_type": "markdown",
   "metadata": {},
   "source": [
    "### 5. Analysis of Gender Distribution"
   ]
  },
  {
   "cell_type": "code",
   "execution_count": null,
   "metadata": {},
   "outputs": [],
   "source": [
    "gender_counts = df['Gender'].value_counts()\n",
    "\n",
    "print(\"Number of male patients: \", gender_counts[\"Male\"])\n",
    "print(\"Number of female patientss: \", gender_counts[\"Female\"])\n",
    "\n",
    "\n",
    "plt.figure(figsize=(6, 6))\n",
    "plt.pie(gender_counts,\n",
    "        labels=gender_counts.index,\n",
    "        autopct='%1.1f%%',\n",
    "        startangle=90)\n",
    "plt.title('Distribution of Genders')\n",
    "plt.show()\n"
   ]
  },
  {
   "cell_type": "markdown",
   "metadata": {},
   "source": [
    "### 6. Analysis of Smoking Distribution"
   ]
  },
  {
   "cell_type": "code",
   "execution_count": null,
   "metadata": {},
   "outputs": [],
   "source": [
    "smoking_counts = df['Smoking'].value_counts()\n",
    "\n",
    "# Example using iloc; note that the order may vary\n",
    "print(\"Number of current smoking patients: \", smoking_counts[\"Current\"])\n",
    "print(\"Number of former smoking patients: \", smoking_counts[\"Former\"])\n",
    "print(\"Number of non smoking patients: \", smoking_counts[\"Never\"])\n",
    "\n",
    "plt.figure(figsize=(6, 6))\n",
    "plt.pie(smoking_counts,\n",
    "        labels=smoking_counts.index,\n",
    "        autopct='%1.1f%%',\n",
    "        startangle=90)\n",
    "plt.title('Distribution of Smoking')\n",
    "plt.show()\n"
   ]
  },
  {
   "cell_type": "markdown",
   "metadata": {},
   "source": [
    "### 7. Analysis of Alcohol Intake Distribution"
   ]
  },
  {
   "cell_type": "code",
   "execution_count": null,
   "metadata": {},
   "outputs": [],
   "source": [
    "# Calculate the counts for each category in Alcohol Intake\n",
    "alcohol_intake_counts = df['Alcohol Intake'].value_counts()\n",
    "\n",
    "print(\"Number of patients with heavy alcohol intake:: \", alcohol_intake_counts[\"Heavy\"])\n",
    "print(\"Number of patients with moderate alcohol intake:: \", alcohol_intake_counts[\"Moderate\"])\n",
    "print(\"Number of patients with no alcohol intake:: \", alcohol_intake_counts[\"No\"])\n",
    "\n",
    "# Plot a pie chart for the distribution of alcohol intake\n",
    "plt.figure(figsize=(6, 6))\n",
    "plt.pie(alcohol_intake_counts,\n",
    "        labels=alcohol_intake_counts.index,\n",
    "        autopct='%1.1f%%',\n",
    "        startangle=90)\n",
    "plt.title('Distribution of Alcohol Intake')\n",
    "plt.show()\n"
   ]
  },
  {
   "cell_type": "markdown",
   "metadata": {},
   "source": [
    "### 8. Analysis of Family History Distribution\n"
   ]
  },
  {
   "cell_type": "code",
   "execution_count": null,
   "metadata": {},
   "outputs": [],
   "source": [
    "\n",
    "family_history_counts = df['Family History'].value_counts()\n",
    "\n",
    "print(\"Number of patients with presence of heart disease in close relatives: \", family_history_counts[\"Yes\"])\n",
    "print(\"Number of patients with no presence of heart disease in close relatives: \", family_history_counts[\"No\"])\n",
    "\n",
    "plt.figure(figsize=(6, 6))\n",
    "plt.pie(family_history_counts,\n",
    "        labels=family_history_counts.index,\n",
    "        autopct='%1.1f%%',\n",
    "        startangle=90)\n",
    "plt.title('Distribution of Family History')\n",
    "plt.show()"
   ]
  },
  {
   "cell_type": "markdown",
   "metadata": {},
   "source": [
    "### 9. Analysis of Heart Disease Distribution"
   ]
  },
  {
   "cell_type": "code",
   "execution_count": null,
   "metadata": {},
   "outputs": [],
   "source": [
    "heart_disease_counts = df['Heart Disease'].value_counts()\n",
    "\n",
    "print(\"Number of patients with heart disease: \", heart_disease_counts[1])\n",
    "print(\"Number of patients with no heart disease: \", heart_disease_counts[0])\n",
    "\n",
    "plt.figure(figsize=(6, 6))\n",
    "plt.pie(heart_disease_counts,\n",
    "        labels=heart_disease_counts.index,\n",
    "        autopct='%1.1f%%',\n",
    "        startangle=90)\n",
    "plt.title('Distribution of Heart Disease')\n",
    "plt.show()"
   ]
  },
  {
   "cell_type": "markdown",
   "metadata": {},
   "source": [
    "## Bivariate Analysis"
   ]
  },
  {
   "cell_type": "code",
   "execution_count": null,
   "metadata": {},
   "outputs": [],
   "source": [
    "df.head()"
   ]
  },
  {
   "cell_type": "markdown",
   "metadata": {},
   "source": [
    "### 1. Correlation between Age and Heart Disease\n"
   ]
  },
  {
   "cell_type": "code",
   "execution_count": null,
   "metadata": {},
   "outputs": [],
   "source": [
    "# Assuming df is your DataFrame and has columns 'Age' and 'Heart Disease'\n",
    "corr_matrix = df[['Age', 'Heart Disease']].corr()\n",
    "print(\"Correlation Matrix:\")\n",
    "print(corr_matrix)\n",
    "\n",
    "# Visualize the correlation matrix using a heatmap\n",
    "plt.figure(figsize=(6, 4))\n",
    "sns.heatmap(corr_matrix, annot=True, cmap='coolwarm', fmt='.2f')\n",
    "plt.title('Correlation Matrix for Age and Heart Disease')\n",
    "plt.show()"
   ]
  },
  {
   "cell_type": "code",
   "execution_count": null,
   "metadata": {},
   "outputs": [],
   "source": [
    "# Define age bins and corresponding labels\n",
    "age_bins = [0, 40, 60, 100]\n",
    "age_labels = ['<40', '40-60', '>60']\n",
    "\n",
    "# Create a new column 'Age Group' with binned age values\n",
    "df['Age Group'] = pd.cut(df['Age'], bins=age_bins, labels=age_labels, right=False)\n",
    "\n",
    "# Create a crosstab between Age Group and Heart Disease\n",
    "heart_disease_counts = pd.crosstab(df['Age Group'], df['Heart Disease'],\n",
    "                                   rownames=['Age Group'],\n",
    "                                   colnames=['Heart Disease'])\n",
    "\n",
    "# Rename columns: assuming 0 means \"No Heart Disease\" and 1 means \"Heart Disease\"\n",
    "heart_disease_counts.columns = ['No Heart Disease', 'Heart Disease']\n",
    "\n",
    "# Calculate percentages for each age group (used later for pie charts)\n",
    "heart_disease_percentages = {}\n",
    "for group in age_labels:\n",
    "    group_data = df[df['Age Group'] == group]\n",
    "    total = len(group_data)\n",
    "    if total > 0:\n",
    "        heart = group_data['Heart Disease'].sum()  # Sum assuming Heart Disease is binary (0/1)\n",
    "        no_heart = total - heart\n",
    "        heart_disease_percentages[group] = [no_heart/total*100, heart/total*100]\n",
    "    else:\n",
    "        heart_disease_percentages[group] = [0, 0]\n",
    "\n",
    "# ----- Stacked Bar Chart -----\n",
    "plt.figure(figsize=(12, 6))\n",
    "heart_disease_counts.plot(kind='bar', stacked=True)\n",
    "plt.title('Heart Disease by Age Group', fontsize=16)\n",
    "plt.xlabel('Age Group', fontsize=13)\n",
    "plt.ylabel('Count', fontsize=13)\n",
    "plt.xticks(range(len(age_labels)), age_labels, rotation=0)\n",
    "plt.legend(['No Heart Disease', 'Heart Disease'])\n",
    "\n",
    "# Annotate each bar with counts using a numeric index\n",
    "for i, (age_group, row) in enumerate(heart_disease_counts.iterrows()):\n",
    "    plt.text(i, row['No Heart Disease'] / 2, str(row['No Heart Disease']),\n",
    "             fontweight='bold', ha='center')\n",
    "    plt.text(i, row['No Heart Disease'] + row['Heart Disease'] / 2, str(row['Heart Disease']),\n",
    "             fontweight='bold', ha='center')\n",
    "\n",
    "plt.tight_layout()\n",
    "plt.show()\n",
    "\n",
    "# ----- Pie Charts for Each Age Group -----\n",
    "fig, axes = plt.subplots(1, len(age_labels), figsize=(18, 6))\n",
    "for i, group in enumerate(age_labels):\n",
    "    axes[i].pie(heart_disease_percentages[group],\n",
    "                labels=['No Heart Disease', 'Heart Disease'],\n",
    "                autopct='%1.1f%%',\n",
    "                startangle=90,\n",
    "                explode=(0.05, 0))\n",
    "    axes[i].set_title(f'Heart Disease in {group}', fontsize=14)\n",
    "plt.tight_layout()\n",
    "plt.show()"
   ]
  },
  {
   "cell_type": "markdown",
   "metadata": {},
   "source": [
    "### 2. Correlation between Cholesterol and Heart Disease"
   ]
  },
  {
   "cell_type": "code",
   "execution_count": null,
   "metadata": {},
   "outputs": [],
   "source": [
    "# Calculate the correlation matrix for Cholesterol and Heart Disease\n",
    "corr_matrix = df[['Cholesterol', 'Heart Disease']].corr()\n",
    "print(\"Correlation Matrix for Cholesterol and Heart Disease:\")\n",
    "print(corr_matrix)\n",
    "\n",
    "# Visualize the correlation matrix using a heatmap\n",
    "plt.figure(figsize=(6, 4))\n",
    "sns.heatmap(corr_matrix, annot=True, cmap='coolwarm', fmt='.2f')\n",
    "plt.title('Correlation Matrix for Cholesterol and Heart Disease')\n",
    "plt.show()"
   ]
  },
  {
   "cell_type": "code",
   "execution_count": null,
   "metadata": {},
   "outputs": [],
   "source": [
    "# Bin cholesterol into three categories using quantiles, and capture the bin edges\n",
    "df['Cholesterol Category'], chol_bins = pd.qcut(df['Cholesterol'], q=3, \n",
    "                                                labels=['Low', 'Medium', 'High'],\n",
    "                                                retbins=True)\n",
    "print(\"Cholesterol bin edges:\", chol_bins)\n",
    "\n",
    "# Create a crosstab between the cholesterol categories and heart disease status\n",
    "cholesterol_counts = pd.crosstab(df['Cholesterol Category'], df['Heart Disease'],\n",
    "                                 rownames=['Cholesterol Category'],\n",
    "                                 colnames=['Heart Disease'])\n",
    "\n",
    "# Rename columns for clarity: assuming 0 means \"No Heart Disease\" and 1 means \"Heart Disease\"\n",
    "cholesterol_counts.columns = ['No Heart Disease', 'Heart Disease']\n",
    "\n",
    "# Calculate percentage distributions for each cholesterol category (for pie charts)\n",
    "cholesterol_percentages = {}\n",
    "for cat in ['Low', 'Medium', 'High']:\n",
    "    cat_data = df[df['Cholesterol Category'] == cat]\n",
    "    total = len(cat_data)\n",
    "    if total > 0:\n",
    "        heart = cat_data['Heart Disease'].sum()  # Sum assumes binary (0/1)\n",
    "        no_heart = total - heart\n",
    "        cholesterol_percentages[cat] = [no_heart/total*100, heart/total*100]\n",
    "    else:\n",
    "        cholesterol_percentages[cat] = [0, 0]\n",
    "\n",
    "# ----- Stacked Bar Chart -----\n",
    "plt.figure(figsize=(12, 6))\n",
    "cholesterol_counts.plot(kind='bar', stacked=True)\n",
    "plt.title('Heart Disease by Cholesterol Category', fontsize=16)\n",
    "plt.xlabel('Cholesterol Category', fontsize=13)\n",
    "plt.ylabel('Count', fontsize=13)\n",
    "plt.xticks(range(len(cholesterol_counts.index)), cholesterol_counts.index, rotation=0)\n",
    "plt.legend(['No Heart Disease', 'Heart Disease'])\n",
    "\n",
    "# Annotate each bar with counts using a numeric index\n",
    "for i, (cat, row) in enumerate(cholesterol_counts.iterrows()):\n",
    "    plt.text(i, row['No Heart Disease'] / 2, str(row['No Heart Disease']),\n",
    "             fontweight='bold', ha='center')\n",
    "    plt.text(i, row['No Heart Disease'] + row['Heart Disease'] / 2, str(row['Heart Disease']),\n",
    "             fontweight='bold', ha='center')\n",
    "\n",
    "plt.tight_layout()\n",
    "plt.show()\n",
    "\n",
    "# ----- Pie Charts for Each Cholesterol Category -----\n",
    "fig, axes = plt.subplots(1, len(cholesterol_counts.index), figsize=(18, 6))\n",
    "for i, cat in enumerate(cholesterol_counts.index):\n",
    "    axes[i].pie(cholesterol_percentages[cat],\n",
    "                labels=['No Heart Disease', 'Heart Disease'],\n",
    "                autopct='%1.1f%%',\n",
    "                startangle=90,\n",
    "                explode=(0.05, 0))\n",
    "    axes[i].set_title(f'Heart Disease in {cat} Cholesterol', fontsize=14)\n",
    "plt.tight_layout()\n",
    "plt.show()"
   ]
  },
  {
   "cell_type": "markdown",
   "metadata": {},
   "source": [
    "### 3. Correlation between Blood Pressure and Heart Disease"
   ]
  },
  {
   "cell_type": "code",
   "execution_count": null,
   "metadata": {},
   "outputs": [],
   "source": [
    "# Assuming df is your DataFrame and has the columns 'Blood Pressure' and 'Heart Disease'\n",
    "corr_matrix = df[['Blood Pressure', 'Heart Disease']].corr()\n",
    "print(\"Correlation Matrix for Blood Pressure and Heart Disease:\")\n",
    "print(corr_matrix)\n",
    "\n",
    "# Visualize the correlation matrix using a heatmap\n",
    "plt.figure(figsize=(6, 4))\n",
    "sns.heatmap(corr_matrix, annot=True, cmap='coolwarm', fmt='.2f')\n",
    "plt.title('Correlation Matrix for Blood Pressure and Heart Disease')\n",
    "plt.show()"
   ]
  },
  {
   "cell_type": "code",
   "execution_count": null,
   "metadata": {},
   "outputs": [],
   "source": [
    "# Step 1: Bin the Blood Pressure values into three categories using quantiles.\n",
    "df['Blood Pressure Category'], bp_bins = pd.qcut(df['Blood Pressure'], q=3,\n",
    "                                                 labels=['Low', 'Medium', 'High'],\n",
    "                                                 retbins=True)\n",
    "print(\"Blood Pressure bin edges:\", bp_bins)\n",
    "\n",
    "# Step 2: Create a crosstab between the blood pressure categories and heart disease status.\n",
    "bp_counts = pd.crosstab(df['Blood Pressure Category'], df['Heart Disease'],\n",
    "                        rownames=['Blood Pressure Category'],\n",
    "                        colnames=['Heart Disease'])\n",
    "\n",
    "# Rename columns for clarity, assuming 0 means \"No Heart Disease\" and 1 means \"Heart Disease\"\n",
    "bp_counts.columns = ['No Heart Disease', 'Heart Disease']\n",
    "\n",
    "# Step 3: Calculate percentage distributions for each blood pressure category (for pie charts)\n",
    "bp_percentages = {}\n",
    "for cat in ['Low', 'Medium', 'High']:\n",
    "    cat_data = df[df['Blood Pressure Category'] == cat]\n",
    "    total = len(cat_data)\n",
    "    if total > 0:\n",
    "        heart = cat_data['Heart Disease'].sum()  # Sum assumes binary (0/1)\n",
    "        no_heart = total - heart\n",
    "        bp_percentages[cat] = [no_heart / total * 100, heart / total * 100]\n",
    "    else:\n",
    "        bp_percentages[cat] = [0, 0]\n",
    "\n",
    "# ----- Stacked Bar Chart -----\n",
    "plt.figure(figsize=(12, 6))\n",
    "bp_counts.plot(kind='bar', stacked=True)\n",
    "plt.title('Heart Disease by Blood Pressure Category', fontsize=16)\n",
    "plt.xlabel('Blood Pressure Category', fontsize=13)\n",
    "plt.ylabel('Count', fontsize=13)\n",
    "plt.xticks(range(len(bp_counts.index)), bp_counts.index, rotation=0)\n",
    "plt.legend(['No Heart Disease', 'Heart Disease'])\n",
    "\n",
    "# Annotate each bar with counts using numeric index from enumerate\n",
    "for i, (bp_cat, row) in enumerate(bp_counts.iterrows()):\n",
    "    plt.text(i, row['No Heart Disease'] / 2, str(row['No Heart Disease']),\n",
    "             fontweight='bold', ha='center')\n",
    "    plt.text(i, row['No Heart Disease'] + row['Heart Disease'] / 2, str(row['Heart Disease']),\n",
    "             fontweight='bold', ha='center')\n",
    "\n",
    "plt.tight_layout()\n",
    "plt.show()\n",
    "\n",
    "# ----- Pie Charts for Each Blood Pressure Category -----\n",
    "fig, axes = plt.subplots(1, len(bp_counts.index), figsize=(18, 6))\n",
    "for i, cat in enumerate(bp_counts.index):\n",
    "    axes[i].pie(bp_percentages[cat],\n",
    "                labels=['No Heart Disease', 'Heart Disease'],\n",
    "                autopct='%1.1f%%',\n",
    "                startangle=90,\n",
    "                explode=(0.05, 0))\n",
    "    axes[i].set_title(f'Heart Disease in {cat} Blood Pressure', fontsize=14)\n",
    "plt.tight_layout()\n",
    "plt.show()"
   ]
  },
  {
   "cell_type": "markdown",
   "metadata": {},
   "source": [
    "### 4. Correlation between Heart Rate and Heart Disease"
   ]
  },
  {
   "cell_type": "code",
   "execution_count": null,
   "metadata": {},
   "outputs": [],
   "source": [
    "# Assuming df is your DataFrame with columns 'Heart Rate' and 'Heart Disease'\n",
    "corr_matrix = df[['Heart Rate', 'Heart Disease']].corr()\n",
    "print(\"Correlation Matrix for Heart Rate and Heart Disease:\")\n",
    "print(corr_matrix)\n",
    "\n",
    "# Visualize the correlation matrix using a heatmap\n",
    "plt.figure(figsize=(6, 4))\n",
    "sns.heatmap(corr_matrix, annot=True, cmap='coolwarm', fmt='.2f')\n",
    "plt.title('Correlation Matrix for Heart Rate and Heart Disease')\n",
    "plt.show()"
   ]
  },
  {
   "cell_type": "code",
   "execution_count": null,
   "metadata": {},
   "outputs": [],
   "source": [
    "# --- Step 1: Bin Heart Rate ---\n",
    "# Bin 'Heart Rate' into three quantile-based categories and capture bin edges.\n",
    "df['Heart Rate Category'], hr_bins = pd.qcut(df['Heart Rate'], q=3, \n",
    "                                              labels=['Low', 'Medium', 'High'],\n",
    "                                              retbins=True)\n",
    "print(\"Heart Rate bin edges:\", hr_bins)\n",
    "\n",
    "# --- Step 2: Create a Crosstab ---\n",
    "# Create a crosstab between the heart rate categories and heart disease status.\n",
    "hr_counts = pd.crosstab(df['Heart Rate Category'], df['Heart Disease'],\n",
    "                        rownames=['Heart Rate Category'],\n",
    "                        colnames=['Heart Disease'])\n",
    "\n",
    "# Rename columns for clarity: assuming 0 means \"No Heart Disease\" and 1 means \"Heart Disease\"\n",
    "hr_counts.columns = ['No Heart Disease', 'Heart Disease']\n",
    "\n",
    "# --- Step 3: Calculate Percentage Distributions ---\n",
    "# Compute percentage distribution for each heart rate category (used for pie charts).\n",
    "hr_percentages = {}\n",
    "for cat in ['Low', 'Medium', 'High']:\n",
    "    cat_data = df[df['Heart Rate Category'] == cat]\n",
    "    total = len(cat_data)\n",
    "    if total > 0:\n",
    "        heart = cat_data['Heart Disease'].sum()  # Sum assumes binary coding (0/1)\n",
    "        no_heart = total - heart\n",
    "        hr_percentages[cat] = [no_heart/total*100, heart/total*100]\n",
    "    else:\n",
    "        hr_percentages[cat] = [0, 0]\n",
    "\n",
    "# --- Step 4: Visualize the Data ---\n",
    "\n",
    "# Stacked Bar Chart\n",
    "plt.figure(figsize=(12, 6))\n",
    "hr_counts.plot(kind='bar', stacked=True)\n",
    "plt.title('Heart Disease by Heart Rate Category', fontsize=16)\n",
    "plt.xlabel('Heart Rate Category', fontsize=13)\n",
    "plt.ylabel('Count', fontsize=13)\n",
    "plt.xticks(range(len(hr_counts.index)), hr_counts.index, rotation=0)\n",
    "plt.legend(['No Heart Disease', 'Heart Disease'])\n",
    "\n",
    "# Annotate each bar with counts using a numeric index.\n",
    "for i, (cat, row) in enumerate(hr_counts.iterrows()):\n",
    "    plt.text(i, row['No Heart Disease'] / 2, str(row['No Heart Disease']),\n",
    "             fontweight='bold', ha='center')\n",
    "    plt.text(i, row['No Heart Disease'] + row['Heart Disease'] / 2, str(row['Heart Disease']),\n",
    "             fontweight='bold', ha='center')\n",
    "\n",
    "plt.tight_layout()\n",
    "plt.show()\n",
    "\n",
    "# Pie Charts for Each Heart Rate Category\n",
    "fig, axes = plt.subplots(1, len(hr_counts.index), figsize=(18, 6))\n",
    "for i, cat in enumerate(hr_counts.index):\n",
    "    axes[i].pie(hr_percentages[cat],\n",
    "                labels=['No Heart Disease', 'Heart Disease'],\n",
    "                autopct='%1.1f%%',\n",
    "                startangle=90,\n",
    "                explode=(0.05, 0))\n",
    "    axes[i].set_title(f'Heart Disease in {cat} Heart Rate', fontsize=14)\n",
    "plt.tight_layout()\n",
    "plt.show()"
   ]
  },
  {
   "cell_type": "markdown",
   "metadata": {},
   "source": [
    "## Multivariate Analysis"
   ]
  },
  {
   "cell_type": "code",
   "execution_count": null,
   "metadata": {},
   "outputs": [],
   "source": [
    "df['Heart Disease'] = df['Heart Disease'].astype('category')\n",
    "\n",
    "# --------------------------\n",
    "# 1. Pair Plots\n",
    "# --------------------------\n",
    "# Visualize pairwise relationships among continuous variables with heart disease as hue.\n",
    "sns.pairplot(df[['Age', 'Cholesterol', 'Blood Pressure', 'Heart Rate', 'Heart Disease']],\n",
    "             hue='Heart Disease', palette='Set1', diag_kind='kde')\n",
    "plt.suptitle('Pair Plot for Heart Disease Dataset', y=1.02)\n",
    "plt.show()\n",
    "\n",
    "# --------------------------\n",
    "# 2. Heatmaps\n",
    "# --------------------------\n",
    "# Create a correlation matrix for the numeric variables.\n",
    "numeric_cols = ['Age', 'Cholesterol', 'Blood Pressure', 'Heart Rate']\n",
    "corr_matrix = df[numeric_cols].corr()\n",
    "print(\"Correlation Matrix:\")\n",
    "print(corr_matrix)\n",
    "\n",
    "# Plot the correlation matrix as a heatmap.\n",
    "plt.figure(figsize=(8, 6))\n",
    "sns.heatmap(corr_matrix, annot=True, cmap='coolwarm', fmt='.2f')\n",
    "plt.title('Correlation Heatmap for Numeric Variables')\n",
    "plt.show()\n",
    "\n",
    "# --------------------------\n",
    "# 3. Grouped Comparisons\n",
    "# --------------------------\n",
    "# Group the data by Heart Disease status (using observed=False to avoid FutureWarning)\n",
    "grouped_means = df.groupby('Heart Disease', observed=False)[numeric_cols].mean()\n",
    "print(\"Mean Values of Numeric Variables by Heart Disease Status:\")\n",
    "print(grouped_means)\n",
    "\n",
    "# Visualize the grouped means using a bar plot.\n",
    "grouped_means.plot(kind='bar', figsize=(10, 6))\n",
    "plt.title('Mean Values of Numeric Variables by Heart Disease Status')\n",
    "plt.xlabel('Heart Disease')\n",
    "plt.ylabel('Mean Value')\n",
    "plt.xticks(rotation=0)\n",
    "plt.legend(title='Variables')\n",
    "plt.show()"
   ]
  },
  {
   "cell_type": "code",
   "execution_count": null,
   "metadata": {},
   "outputs": [],
   "source": []
  }
 ],
 "metadata": {
  "kernelspec": {
   "display_name": "Python 3",
   "language": "python",
   "name": "python3"
  },
  "language_info": {
   "codemirror_mode": {
    "name": "ipython",
    "version": 3
   },
   "file_extension": ".py",
   "mimetype": "text/x-python",
   "name": "python",
   "nbconvert_exporter": "python",
   "pygments_lexer": "ipython3",
   "version": "3.12.3"
  }
 },
 "nbformat": 4,
 "nbformat_minor": 2
}
